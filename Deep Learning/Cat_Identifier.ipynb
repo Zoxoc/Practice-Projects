{
  "nbformat": 4,
  "nbformat_minor": 0,
  "metadata": {
    "colab": {
      "provenance": [],
      "machine_shape": "hm"
    },
    "kernelspec": {
      "name": "python3",
      "display_name": "Python 3"
    },
    "language_info": {
      "name": "python"
    }
  },
  "cells": [
    {
      "cell_type": "markdown",
      "source": [
        "We are going to develop a Neural Network from Scratch which outputs if an image is a cat or not cat"
      ],
      "metadata": {
        "id": "eR5cDq745XQo"
      }
    },
    {
      "cell_type": "markdown",
      "source": [
        "Dataset: https://www.kaggle.com/datasets/muhammeddalkran/catvnoncat"
      ],
      "metadata": {
        "id": "AAqA4a-eF69N"
      }
    },
    {
      "cell_type": "code",
      "source": [
        "!pip install opendatasets"
      ],
      "metadata": {
        "colab": {
          "base_uri": "https://localhost:8080/"
        },
        "id": "fcq1BBArHAGD",
        "outputId": "55313615-5706-4c46-a5dc-3b2587ce46cd"
      },
      "execution_count": 1,
      "outputs": [
        {
          "output_type": "stream",
          "name": "stdout",
          "text": [
            "Collecting opendatasets\n",
            "  Downloading opendatasets-0.1.22-py3-none-any.whl.metadata (9.2 kB)\n",
            "Requirement already satisfied: tqdm in /usr/local/lib/python3.11/dist-packages (from opendatasets) (4.67.1)\n",
            "Requirement already satisfied: kaggle in /usr/local/lib/python3.11/dist-packages (from opendatasets) (1.6.17)\n",
            "Requirement already satisfied: click in /usr/local/lib/python3.11/dist-packages (from opendatasets) (8.1.8)\n",
            "Requirement already satisfied: six>=1.10 in /usr/local/lib/python3.11/dist-packages (from kaggle->opendatasets) (1.17.0)\n",
            "Requirement already satisfied: certifi>=2023.7.22 in /usr/local/lib/python3.11/dist-packages (from kaggle->opendatasets) (2024.12.14)\n",
            "Requirement already satisfied: python-dateutil in /usr/local/lib/python3.11/dist-packages (from kaggle->opendatasets) (2.8.2)\n",
            "Requirement already satisfied: requests in /usr/local/lib/python3.11/dist-packages (from kaggle->opendatasets) (2.32.3)\n",
            "Requirement already satisfied: python-slugify in /usr/local/lib/python3.11/dist-packages (from kaggle->opendatasets) (8.0.4)\n",
            "Requirement already satisfied: urllib3 in /usr/local/lib/python3.11/dist-packages (from kaggle->opendatasets) (2.3.0)\n",
            "Requirement already satisfied: bleach in /usr/local/lib/python3.11/dist-packages (from kaggle->opendatasets) (6.2.0)\n",
            "Requirement already satisfied: webencodings in /usr/local/lib/python3.11/dist-packages (from bleach->kaggle->opendatasets) (0.5.1)\n",
            "Requirement already satisfied: text-unidecode>=1.3 in /usr/local/lib/python3.11/dist-packages (from python-slugify->kaggle->opendatasets) (1.3)\n",
            "Requirement already satisfied: charset-normalizer<4,>=2 in /usr/local/lib/python3.11/dist-packages (from requests->kaggle->opendatasets) (3.4.1)\n",
            "Requirement already satisfied: idna<4,>=2.5 in /usr/local/lib/python3.11/dist-packages (from requests->kaggle->opendatasets) (3.10)\n",
            "Downloading opendatasets-0.1.22-py3-none-any.whl (15 kB)\n",
            "Installing collected packages: opendatasets\n",
            "Successfully installed opendatasets-0.1.22\n"
          ]
        }
      ]
    },
    {
      "cell_type": "code",
      "execution_count": 3,
      "metadata": {
        "id": "iVeEK3qAF2ij"
      },
      "outputs": [],
      "source": [
        "import numpy as np\n",
        "import matplotlib.pyplot as plt\n",
        "from glob import glob #to make images as a list\n",
        "import opendatasets as od #to import dataset\n",
        "import h5py\n",
        "from sklearn.model_selection import train_test_split"
      ]
    },
    {
      "cell_type": "code",
      "source": [
        "od.download(\"https://www.kaggle.com/datasets/muhammeddalkran/catvnoncat\")"
      ],
      "metadata": {
        "colab": {
          "base_uri": "https://localhost:8080/"
        },
        "id": "9--DKYTBG545",
        "outputId": "d7a6a485-b496-4d5e-b749-45505a1ef502"
      },
      "execution_count": 5,
      "outputs": [
        {
          "output_type": "stream",
          "name": "stdout",
          "text": [
            "Please provide your Kaggle credentials to download this dataset. Learn more: http://bit.ly/kaggle-creds\n",
            "Your Kaggle username: madhav08\n",
            "Your Kaggle Key: ··········\n",
            "Dataset URL: https://www.kaggle.com/datasets/muhammeddalkran/catvnoncat\n",
            "Downloading catvnoncat.zip to ./catvnoncat\n"
          ]
        },
        {
          "output_type": "stream",
          "name": "stderr",
          "text": [
            "100%|██████████| 2.66M/2.66M [00:00<00:00, 79.7MB/s]"
          ]
        },
        {
          "output_type": "stream",
          "name": "stdout",
          "text": [
            "\n"
          ]
        },
        {
          "output_type": "stream",
          "name": "stderr",
          "text": [
            "\n"
          ]
        }
      ]
    },
    {
      "cell_type": "code",
      "source": [
        "#opening HDF5 file\n",
        "train_file_path = '/content/catvnoncat/catvnoncat/train_catvnoncat.h5'\n",
        "train_dataset_x = 'train_set_x'\n",
        "train_dataset_y = 'train_set_y'\n",
        "\n",
        "with h5py.File(train_file_path,'r') as file:\n",
        "  dataset_X = file[train_dataset_x]\n",
        "  X_train = dataset_X[:]  # [:] loads the entire dataset into memory\n",
        "\n",
        "  dataset_y = file[train_dataset_y]\n",
        "  y_train = dataset_y[:]\n",
        "\n",
        "  y_train = y_train.reshape(y_train.shape[0],1) #to not make it a rank 1 array\n",
        "\n",
        "  print(f\"X shape: {X_train.shape}\")\n",
        "  print(f\"y shape: {y_train.shape}\")"
      ],
      "metadata": {
        "colab": {
          "base_uri": "https://localhost:8080/"
        },
        "id": "l7eG_-7EHq43",
        "outputId": "04425368-9395-4107-c324-7349eefb210f"
      },
      "execution_count": 6,
      "outputs": [
        {
          "output_type": "stream",
          "name": "stdout",
          "text": [
            "X shape: (209, 64, 64, 3)\n",
            "y shape: (209, 1)\n"
          ]
        }
      ]
    },
    {
      "cell_type": "code",
      "source": [
        "#now lets do the same thing for test variables\n",
        "test_file_path = '/content/catvnoncat/catvnoncat/test_catvnoncat.h5'\n",
        "test_dataset_x = 'test_set_x'\n",
        "test_dataset_y = 'test_set_y'\n",
        "\n",
        "with h5py.File(test_file_path,'r') as file:\n",
        "  dataset_X = file[test_dataset_x]\n",
        "  X_test = dataset_X[:]  # [:] loads the entire dataset into memory\n",
        "\n",
        "  dataset_y = file[test_dataset_y]\n",
        "  y_test = dataset_y[:]\n",
        "\n",
        "  y_test = y_test.reshape(y_test.shape[0],1) #to not make it a rank 1 array\n",
        "\n",
        "  print(f\"X shape: {X_test.shape}\")\n",
        "  print(f\"y shape: {y_test.shape}\")"
      ],
      "metadata": {
        "colab": {
          "base_uri": "https://localhost:8080/"
        },
        "id": "XU95wpGPb5KA",
        "outputId": "8697c71f-64c0-4eae-8537-64175fca1d51"
      },
      "execution_count": 7,
      "outputs": [
        {
          "output_type": "stream",
          "name": "stdout",
          "text": [
            "X shape: (50, 64, 64, 3)\n",
            "y shape: (50, 1)\n"
          ]
        }
      ]
    },
    {
      "cell_type": "code",
      "source": [
        "#so lets see the image for a random X_train\n",
        "plt.imshow(X_train[27])\n",
        "plt.axis('off')\n",
        "plt.show()"
      ],
      "metadata": {
        "colab": {
          "base_uri": "https://localhost:8080/",
          "height": 406
        },
        "id": "1FD4x1rp0ouL",
        "outputId": "12c757cb-ed03-4b76-b490-5c94804d5f52"
      },
      "execution_count": 8,
      "outputs": [
        {
          "output_type": "display_data",
          "data": {
            "text/plain": [
              "<Figure size 640x480 with 1 Axes>"
            ],
            "image/png": "[encoded data removed]"
          },
          "metadata": {}
        }
      ]
    },
    {
      "cell_type": "markdown",
      "source": [
        "Nice!"
      ],
      "metadata": {
        "id": "srTCrug440Fz"
      }
    },
    {
      "cell_type": "code",
      "source": [
        "#first lets normalise the dataset\n",
        "X_train = X_train/255\n",
        "X_test = X_test/255\n",
        "\n",
        "print(f\"X_train shape: {X_train.shape}\")\n",
        "print(f\"X_test shape: {X_test.shape}\")"
      ],
      "metadata": {
        "colab": {
          "base_uri": "https://localhost:8080/"
        },
        "id": "RJHtuZ7Ffz2o",
        "outputId": "0fdc38e2-6e8b-475d-d683-9aa100753038"
      },
      "execution_count": 9,
      "outputs": [
        {
          "output_type": "stream",
          "name": "stdout",
          "text": [
            "X_train shape: (209, 64, 64, 3)\n",
            "X_test shape: (50, 64, 64, 3)\n"
          ]
        }
      ]
    },
    {
      "cell_type": "markdown",
      "source": [
        "NOW, lets build the neural network"
      ],
      "metadata": {
        "id": "ut-zt_j85_Yv"
      }
    },
    {
      "cell_type": "code",
      "source": [
        "#flatten the arrays\n",
        "X_train = X_train.reshape(X_train.shape[0], -1).T\n",
        "X_test = X_test.reshape(X_test.shape[0], -1).T\n",
        "y_train = y_train.reshape(y_train.shape[0], -1).T\n",
        "y_test = y_test.reshape(y_test.shape[0], -1).T\n",
        "print(X_train.shape)\n",
        "print(y_train.shape)"
      ],
      "metadata": {
        "id": "2KKqN1w959OL",
        "colab": {
          "base_uri": "https://localhost:8080/"
        },
        "outputId": "8041e2dc-4b6c-406d-9d60-bfd1b6e3434e"
      },
      "execution_count": 10,
      "outputs": [
        {
          "output_type": "stream",
          "name": "stdout",
          "text": [
            "(12288, 209)\n",
            "(1, 209)\n"
          ]
        }
      ]
    },
    {
      "cell_type": "markdown",
      "source": [
        "Now, all the pixel values for a image is in a single column"
      ],
      "metadata": {
        "id": "Ig-gqYY3JF75"
      }
    },
    {
      "cell_type": "markdown",
      "source": [
        "I'm building a 2 layer Neural Network with 512 neurons in first layer and 256 in second"
      ],
      "metadata": {
        "id": "XyPtq4xSJqEX"
      }
    },
    {
      "cell_type": "code",
      "source": [
        "#initialising weights abd biases\n",
        "def initialise_parameters(layer_dims):\n",
        "  parameters = {}\n",
        "  L = len(layer_dims)\n",
        "  for l in range(1,L):\n",
        "    parameters[f\"W{l}\"] = np.random.randn(layer_dims[l], layer_dims[l-1]) *  np.sqrt(2. / layer_dims[l-1])  #He initialisation\n",
        "    parameters[f\"b{l}\"] = np.zeros((layer_dims[l],1))\n",
        "\n",
        "  return parameters"
      ],
      "metadata": {
        "id": "dpk2-6YK6xiM"
      },
      "execution_count": 11,
      "outputs": []
    },
    {
      "cell_type": "markdown",
      "source": [
        "So, in the next code block i'll be defining functions for activation functions\n",
        "The activation functions im using for this particular dataset is ReLU and Sigmoid"
      ],
      "metadata": {
        "id": "hpx19bsZaHVc"
      }
    },
    {
      "cell_type": "markdown",
      "source": [
        "ReLU is for all the hidden layers\n",
        "and Sigmoid for the output layer as it is a binary classification problem (cat or not cat)"
      ],
      "metadata": {
        "id": "kJg_YWEbaTrR"
      }
    },
    {
      "cell_type": "code",
      "source": [
        "#Defining activation functions\n",
        "def ReLU(Z):\n",
        "  return np.maximum(0,Z)\n",
        "\n",
        "def Sigmoid(Z):\n",
        "  g = 1/(1+np.exp(-Z))\n",
        "  return g"
      ],
      "metadata": {
        "id": "XnrmOWHoYEct"
      },
      "execution_count": 12,
      "outputs": []
    },
    {
      "cell_type": "code",
      "source": [
        "#forward propagation\n",
        "def linear_forward(A,W,b):\n",
        "  Z = np.dot(W,A) + b\n",
        "  cache = (A,W,b)\n",
        "  return Z, cache\n",
        "\n",
        "def linear_forward_activation(A_prev, W, b, activation):\n",
        "  Z, linear_cache = linear_forward(A_prev,W,b)\n",
        "  activation_cache = (Z)\n",
        "  if activation == \"relu\":\n",
        "    A = ReLU(Z)\n",
        "  elif activation == \"sigmoid\":\n",
        "    A = Sigmoid(Z)\n",
        "\n",
        "  cache = (linear_cache,activation_cache)\n",
        "  return A, cache"
      ],
      "metadata": {
        "id": "CDKRYbh6ae23"
      },
      "execution_count": 13,
      "outputs": []
    },
    {
      "cell_type": "code",
      "source": [
        "#L-model Forward\n",
        "def L_model_forward(X, parameters):\n",
        "  caches = []\n",
        "  A = X\n",
        "  L = len(parameters)//2\n",
        "  for l in range(1,L):\n",
        "    A_prev = A\n",
        "    A, cache = linear_forward_activation(A_prev, parameters[f\"W{l}\"], parameters[f\"b{l}\"], activation=\"relu\")\n",
        "    caches.append(cache)\n",
        "\n",
        "  AL, cache = linear_forward_activation(A, parameters[f\"W{L}\"], parameters[f\"b{L}\"], activation=\"sigmoid\")\n",
        "  caches.append(cache)\n",
        "\n",
        "  return AL, caches"
      ],
      "metadata": {
        "id": "fqSytrl7foBw"
      },
      "execution_count": 14,
      "outputs": []
    },
    {
      "cell_type": "code",
      "source": [
        "#compute cost\n",
        "def cost(AL, y):\n",
        "  m = y.shape[1]\n",
        "  AL = np.clip(AL, 1e-10, 1 - 1e-10)  # Prevents log(0)\n",
        "  cost = (-1/m)*np.sum((np.multiply(y,np.log(AL))+np.multiply((1-y),np.log(1-AL))))\n",
        "  cost = np.squeeze(cost)      # To make sure your cost's shape is what we expect (e.g. this turns [[17]] into 17).\n",
        "  return cost"
      ],
      "metadata": {
        "id": "a_xt3iBu6UoN"
      },
      "execution_count": 15,
      "outputs": []
    },
    {
      "cell_type": "code",
      "source": [
        "#backward activation functions\n",
        "def ReLU_backward(dA, activation_cache):\n",
        "  Z = activation_cache\n",
        "  dZ = np.array(dA,copy=True)\n",
        "  dZ[Z<=0] = 0\n",
        "  return dZ\n",
        "\n",
        "def Sigmoid_backward(dA, activation_cache):\n",
        "  Z = activation_cache\n",
        "  A = Sigmoid(Z)\n",
        "  dZ = dA * A * (1 - A)\n",
        "  return dZ"
      ],
      "metadata": {
        "id": "MsyemUNgP8df"
      },
      "execution_count": 16,
      "outputs": []
    },
    {
      "cell_type": "code",
      "source": [
        "#back propagation\n",
        "def linear_backward(dZ, cache):\n",
        "  A_prev, W, b = cache\n",
        "  m = A_prev.shape[1]\n",
        "  dW = (1/m)*np.dot(dZ,A_prev.T)\n",
        "  db = (1/m)*np.sum(dZ, axis = 1, keepdims = True)\n",
        "  dA_prev = np.dot(W.T,dZ)\n",
        "  return dA_prev, dW, db\n",
        "\n",
        "def linear_backward_activation(dA, cache, activation):\n",
        "  linear_cache, activation_cache = cache\n",
        "  if activation == \"relu\":\n",
        "    dZ = ReLU_backward(dA,activation_cache)\n",
        "    dA_prev, dW, db = linear_backward(dZ,linear_cache)\n",
        "  elif activation == \"sigmoid\":\n",
        "    dZ = Sigmoid_backward(dA,activation_cache)\n",
        "    dA_prev, dW, db = linear_backward(dZ,linear_cache)\n",
        "\n",
        "  return dA_prev, dW, db"
      ],
      "metadata": {
        "id": "mgYZyI0X2blv"
      },
      "execution_count": 17,
      "outputs": []
    },
    {
      "cell_type": "code",
      "source": [
        "#L-model Backward\n",
        "def L_model_backward(AL, Y, caches):\n",
        "  grads = {}\n",
        "  L = len(caches) # the number of layers\n",
        "  m = AL.shape[1]\n",
        "  Y = Y.reshape(AL.shape) #to make Y the same shape as AL\n",
        "\n",
        "  AL = np.clip(AL, 1e-10, 1 - 1e-10)  # Prevents AL/1-AL to not be 0\n",
        "\n",
        "  dAL = - (np.divide(Y, AL) - np.divide(1 - Y, 1 - AL))\n",
        "\n",
        "  current_cache = caches[L-1] #last layer\n",
        "  dA_prev_temp, dW_temp, db_temp = linear_backward_activation(dAL, current_cache, activation=\"sigmoid\")\n",
        "  grads[\"dA\" + str(L-1)] = dA_prev_temp\n",
        "  grads[\"dW\" + str(L)] = dW_temp\n",
        "  grads[\"db\" + str(L)] = db_temp\n",
        "\n",
        "  for l in reversed(range(L-1)):\n",
        "    current_cache = caches[l]\n",
        "    dA_prev_temp, dW_temp, db_temp = linear_backward_activation(grads[\"dA\" + str(l + 1)], current_cache, activation=\"relu\")\n",
        "    grads[\"dA\" + str(l)] = dA_prev_temp\n",
        "    grads[\"dW\" + str(l + 1)] = dW_temp\n",
        "    grads[\"db\" + str(l + 1)] = db_temp\n",
        "\n",
        "  return grads"
      ],
      "metadata": {
        "id": "J5rtw6Yqeyf7"
      },
      "execution_count": 18,
      "outputs": []
    },
    {
      "cell_type": "code",
      "source": [
        "#update parameters\n",
        "def update_parameters(parameters, grads, learning_rate):\n",
        "    L = len(parameters) // 2 # number of layers in the neural network\n",
        "    for l in range(L):\n",
        "        parameters[\"W\" + str(l+1)] -= learning_rate * grads[\"dW\" + str(l+1)]\n",
        "        parameters[\"b\" + str(l+1)] -= learning_rate * grads[\"db\" + str(l+1)]\n",
        "\n",
        "    return parameters"
      ],
      "metadata": {
        "id": "6Zse_XSaji9V"
      },
      "execution_count": 19,
      "outputs": []
    },
    {
      "cell_type": "code",
      "source": [
        "#combining into one model\n",
        "def L_layer_model(X, Y, layer_dims, learning_rate = 0.001, num_iterations = 3000, print_cost=False):\n",
        "  np.random.seed(1)\n",
        "  costs = []\n",
        "  parameters = initialise_parameters(layer_dims)\n",
        "\n",
        "  for i in range(0,num_iterations):\n",
        "    #forward prop\n",
        "    AL, caches = L_model_forward(X, parameters)\n",
        "\n",
        "    cost_value = cost(AL, Y)\n",
        "\n",
        "    #backward prop\n",
        "    grads = L_model_backward(AL, Y, caches)\n",
        "\n",
        "    #update parameters\n",
        "    parameters = update_parameters(parameters, grads, learning_rate)\n",
        "\n",
        "    if i%100==0 or i == num_iterations-1:\n",
        "      print(f\"Cost after iteration {i}: {np.squeeze(cost_value)}\")\n",
        "    if i % 100 == 0 or i == num_iterations:\n",
        "        costs.append(cost_value)\n",
        "\n",
        "  return parameters, costs"
      ],
      "metadata": {
        "id": "pBhF6hv2j1cr"
      },
      "execution_count": 20,
      "outputs": []
    },
    {
      "cell_type": "code",
      "source": [
        "#training the model\n",
        "#parameters\n",
        "m_train = X_train.shape[1] #no.of training examples\n",
        "n_h1 = 256 #number of neurons in hidden layer 1\n",
        "n_h2 = 64 #number of neurons in hidden layer 2\n",
        "n_x = X_train.shape[0] #no. of input features/pixels\n",
        "\n",
        "layer_dims = [12288, n_h1, n_h2, 1]\n",
        "num_iterations=3500\n",
        "\n",
        "parameters, costs = L_layer_model(X_train, y_train, layer_dims, learning_rate=0.03, num_iterations=3500, print_cost=True)\n",
        "plt.plot(range(0,num_iterations,100),costs)\n",
        "plt.xlabel('Iteration')\n",
        "plt.ylabel('Cost')\n",
        "plt.title('Cost vs Iterations')\n",
        "plt.show()"
      ],
      "metadata": {
        "id": "TlqzffPNmIFv",
        "colab": {
          "base_uri": "https://localhost:8080/",
          "height": 1000
        },
        "outputId": "02997b0a-1d46-43e9-9ae7-e047b9d941ff"
      },
      "execution_count": 65,
      "outputs": [
        {
          "output_type": "stream",
          "name": "stdout",
          "text": [
            "Cost after iteration 0: 0.6802310724339663\n",
            "Cost after iteration 100: 0.4768430939268268\n",
            "Cost after iteration 200: 0.3492880787047853\n",
            "Cost after iteration 300: 0.17639120457920432\n",
            "Cost after iteration 400: 0.033965820391315016\n",
            "Cost after iteration 500: 0.012927674431995514\n",
            "Cost after iteration 600: 0.00817535994351066\n",
            "Cost after iteration 700: 0.005850542957638183\n",
            "Cost after iteration 800: 0.0044649589296217\n",
            "Cost after iteration 900: 0.003552188241333965\n",
            "Cost after iteration 1000: 0.002919721123211858\n",
            "Cost after iteration 1100: 0.002463286901889038\n",
            "Cost after iteration 1200: 0.0021158201228677195\n",
            "Cost after iteration 1300: 0.001847307670875918\n",
            "Cost after iteration 1400: 0.0016337052593917297\n",
            "Cost after iteration 1500: 0.001461319152866325\n",
            "Cost after iteration 1600: 0.0013187877190171814\n",
            "Cost after iteration 1700: 0.0011990410240996644\n",
            "Cost after iteration 1800: 0.001096993742411397\n",
            "Cost after iteration 1900: 0.0010095260035396319\n",
            "Cost after iteration 2000: 0.0009331807059798964\n",
            "Cost after iteration 2100: 0.0008674408249980765\n",
            "Cost after iteration 2200: 0.0008091810931968493\n",
            "Cost after iteration 2300: 0.0007577053366026114\n",
            "Cost after iteration 2400: 0.0007118532749947361\n",
            "Cost after iteration 2500: 0.0006709514550129281\n",
            "Cost after iteration 2600: 0.0006338471240879928\n",
            "Cost after iteration 2700: 0.0006004858593278594\n",
            "Cost after iteration 2800: 0.0005701256122572425\n",
            "Cost after iteration 2900: 0.000542488690433636\n",
            "Cost after iteration 3000: 0.0005171722457898847\n",
            "Cost after iteration 3100: 0.0004939489410780783\n",
            "Cost after iteration 3200: 0.00047248415673088783\n",
            "Cost after iteration 3300: 0.0004526424874868679\n",
            "Cost after iteration 3400: 0.00043435485819455017\n",
            "Cost after iteration 3499: 0.0004174795330632255\n"
          ]
        },
        {
          "output_type": "display_data",
          "data": {
            "text/plain": [
              "<Figure size 640x480 with 1 Axes>"
            ],
            "image/png": "[encoded data removed]"
          },
          "metadata": {}
        }
      ]
    },
    {
      "cell_type": "markdown",
      "source": [
        "YAYYY 🥳! Our model training is over and the cost is good enough"
      ],
      "metadata": {
        "id": "8mpWYOCd2kQv"
      }
    },
    {
      "cell_type": "code",
      "source": [
        "#prediction function\n",
        "def predict(X,parameters):\n",
        "  m = X.shape[1]\n",
        "  n = len(parameters) // 2 #no.of layers\n",
        "  p = np.zeros((1,m))\n",
        "\n",
        "  probabilities, cache = L_model_forward(X, parameters)\n",
        "  for i in range(0, probabilities.shape[1]):\n",
        "    if probabilities[0,i] > 0.9:\n",
        "      p[0,i] = 1\n",
        "    else:\n",
        "      p[0,i] = 0\n",
        "\n",
        "  return p, m"
      ],
      "metadata": {
        "id": "1ojxN0iHwvK_"
      },
      "execution_count": 67,
      "outputs": []
    },
    {
      "cell_type": "code",
      "source": [
        "#testing the accuracy with test dataset\n",
        "prediction_test, m = predict(X_test, parameters)\n",
        "print(\"Accuracy: \"  + str(np.sum((prediction_test == y_test)/m)))"
      ],
      "metadata": {
        "colab": {
          "base_uri": "https://localhost:8080/"
        },
        "id": "7p0tf1Z7yOGP",
        "outputId": "dae2b036-a625-43b9-9d63-d7540e281326"
      },
      "execution_count": 68,
      "outputs": [
        {
          "output_type": "stream",
          "name": "stdout",
          "text": [
            "Accuracy: 0.74\n"
          ]
        }
      ]
    },
    {
      "cell_type": "markdown",
      "source": [
        "Tried a lot but couldnt improve than 74, if you can let me know"
      ],
      "metadata": {
        "id": "0YdL8G104EFt"
      }
    },
    {
      "cell_type": "markdown",
      "source": [
        "Now we try to predict using a photo of your own."
      ],
      "metadata": {
        "id": "-X-3DWLSy1yb"
      }
    },
    {
      "cell_type": "markdown",
      "source": [
        "As we can't input image in terminal, we upload it as a temporary file in google colab and use the path to read the image as a numpy array (using matplotlib) and predict"
      ],
      "metadata": {
        "id": "_iwlSdtvy5cQ"
      }
    },
    {
      "cell_type": "markdown",
      "source": [
        "We inputting a 64x64 image"
      ],
      "metadata": {
        "id": "SKRv-qH_zUL3"
      }
    },
    {
      "cell_type": "code",
      "source": [
        "#test with your own image\n",
        "path = \"/content/Walking_tiger_female-2.jpg\"\n",
        "X_pred = plt.imread(path)\n",
        "\n",
        "#printing image\n",
        "plt.imshow(X_pred)\n",
        "plt.axis('off')\n",
        "plt.show()"
      ],
      "metadata": {
        "colab": {
          "base_uri": "https://localhost:8080/",
          "height": 406
        },
        "id": "rG3WRIzEyyf1",
        "outputId": "19259af0-eeea-47b6-bca6-8c6384d42485"
      },
      "execution_count": 69,
      "outputs": [
        {
          "output_type": "display_data",
          "data": {
            "text/plain": [
              "<Figure size 640x480 with 1 Axes>"
            ],
            "image/png": "[encoded data removed]"
          },
          "metadata": {}
        }
      ]
    },
    {
      "cell_type": "code",
      "source": [
        "#flatten the array\n",
        "X_pred = X_pred.reshape(1, -1).T\n",
        "X_pred = X_pred/255 #normalising as the image is jpg\n",
        "print(X_pred.shape)"
      ],
      "metadata": {
        "colab": {
          "base_uri": "https://localhost:8080/"
        },
        "id": "IUYdUOHP0j5O",
        "outputId": "76cf74b2-cea6-4ed7-a789-c72365cda665"
      },
      "execution_count": 70,
      "outputs": [
        {
          "output_type": "stream",
          "name": "stdout",
          "text": [
            "(12288, 1)\n"
          ]
        }
      ]
    },
    {
      "cell_type": "code",
      "source": [
        "#predicting\n",
        "prediction, m_pred = predict(X_pred, parameters)\n",
        "print(np.squeeze(prediction))"
      ],
      "metadata": {
        "id": "Qx0OBG1U0v8X",
        "colab": {
          "base_uri": "https://localhost:8080/"
        },
        "outputId": "d86e2d35-79ba-4681-b5e5-89baa887924f"
      },
      "execution_count": 71,
      "outputs": [
        {
          "output_type": "stream",
          "name": "stdout",
          "text": [
            "0.0\n"
          ]
        }
      ]
    }
  ]
}