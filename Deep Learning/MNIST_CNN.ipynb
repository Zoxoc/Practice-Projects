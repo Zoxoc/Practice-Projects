{
  "nbformat": 4,
  "nbformat_minor": 0,
  "metadata": {
    "colab": {
      "provenance": []
    },
    "kernelspec": {
      "name": "python3",
      "display_name": "Python 3"
    },
    "language_info": {
      "name": "python"
    }
  },
  "cells": [
    {
      "cell_type": "code",
      "source": [
        "!pip install tensorflow.keras"
      ],
      "metadata": {
        "colab": {
          "base_uri": "https://localhost:8080/"
        },
        "id": "qrDLranToxeD",
        "outputId": "dfc39a5c-e3c7-471b-e53f-9053c50e3e7a"
      },
      "execution_count": 1,
      "outputs": [
        {
          "output_type": "stream",
          "name": "stdout",
          "text": [
            "Collecting tensorflow.keras\n",
            "  Downloading tensorflow_keras-0.1-py3-none-any.whl.metadata (63 bytes)\n",
            "Downloading tensorflow_keras-0.1-py3-none-any.whl (5.2 kB)\n",
            "Installing collected packages: tensorflow.keras\n",
            "Successfully installed tensorflow.keras-0.1\n"
          ]
        }
      ]
    },
    {
      "cell_type": "code",
      "execution_count": 2,
      "metadata": {
        "id": "08OdUjslY8W-"
      },
      "outputs": [],
      "source": [
        "import numpy as np\n",
        "import pandas as pd\n",
        "import tensorflow as tf\n",
        "from tensorflow.keras import datasets, layers, models\n",
        "import matplotlib.pyplot as plt"
      ]
    },
    {
      "cell_type": "code",
      "source": [
        "import kagglehub\n",
        "\n",
        "# Download latest version\n",
        "path = kagglehub.dataset_download(\"scolianni/mnistasjpg\")\n",
        "\n",
        "print(\"Path to dataset files:\", path)"
      ],
      "metadata": {
        "colab": {
          "base_uri": "https://localhost:8080/"
        },
        "id": "UwPTFVhJCmsw",
        "outputId": "d10821df-307d-4e27-d610-f2ae5a769e1b"
      },
      "execution_count": 3,
      "outputs": [
        {
          "output_type": "stream",
          "name": "stdout",
          "text": [
            "Downloading from https://www.kaggle.com/api/v1/datasets/download/scolianni/mnistasjpg?dataset_version_number=1...\n"
          ]
        },
        {
          "output_type": "stream",
          "name": "stderr",
          "text": [
            "100%|██████████| 68.4M/68.4M [00:00<00:00, 176MB/s]"
          ]
        },
        {
          "output_type": "stream",
          "name": "stdout",
          "text": [
            "Extracting files...\n"
          ]
        },
        {
          "output_type": "stream",
          "name": "stderr",
          "text": [
            "\n"
          ]
        },
        {
          "output_type": "stream",
          "name": "stdout",
          "text": [
            "Path to dataset files: /root/.cache/kagglehub/datasets/scolianni/mnistasjpg/versions/1\n"
          ]
        }
      ]
    },
    {
      "cell_type": "code",
      "source": [
        "dataset_train = pd.read_csv(\"/content/sample_data/mnist_train_small.csv\")\n",
        "dataset_test = pd.read_csv(\"/content/sample_data/mnist_test.csv\")"
      ],
      "metadata": {
        "id": "aV3DP5BeCoc3"
      },
      "execution_count": 14,
      "outputs": []
    },
    {
      "cell_type": "code",
      "source": [
        "X_train = dataset_train.iloc[:,1:].to_numpy()\n",
        "Y_train = dataset_train.iloc[:,0].to_numpy()\n",
        "print(f\"X_train shape: {X_train.shape}\")\n",
        "print(f\"Y_train shape: {Y_train.shape}\")"
      ],
      "metadata": {
        "id": "T18pjPVkDFnH",
        "colab": {
          "base_uri": "https://localhost:8080/"
        },
        "outputId": "a21b285d-d464-46ae-98f4-d11d7db58a3e"
      },
      "execution_count": 15,
      "outputs": [
        {
          "output_type": "stream",
          "name": "stdout",
          "text": [
            "X_train shape: (19999, 784)\n",
            "Y_train shape: (19999,)\n"
          ]
        }
      ]
    },
    {
      "cell_type": "markdown",
      "source": [
        "We have 19,999 examples and each are grayscale images of 28x28"
      ],
      "metadata": {
        "id": "SpOiLhlxBHHH"
      }
    },
    {
      "cell_type": "markdown",
      "source": [
        "Our label Y_train is a rank 1 array and we dont want that and we should also normalise the pixel values.\n",
        "And to train a CNN we need our X_train to be a matrix."
      ],
      "metadata": {
        "id": "x9wsXERmBSGN"
      }
    },
    {
      "cell_type": "code",
      "source": [
        "X_train = X_train / 255.0\n",
        "X_train = X_train.reshape(-1,28,28,1)\n",
        "Y_train = Y_train.reshape(-1,1)\n",
        "print(f\"X_train shape: {X_train.shape}\")\n",
        "print(f\"Y_train shape: {Y_train.shape}\")"
      ],
      "metadata": {
        "colab": {
          "base_uri": "https://localhost:8080/"
        },
        "id": "h379KtL5BGpy",
        "outputId": "08687833-7495-4649-fa9d-86bc9ab57eb5"
      },
      "execution_count": 27,
      "outputs": [
        {
          "output_type": "stream",
          "name": "stdout",
          "text": [
            "X_train shape: (19999, 28, 28, 1)\n",
            "Y_train shape: (19999, 1)\n"
          ]
        }
      ]
    },
    {
      "cell_type": "code",
      "source": [
        "#now for our test set\n",
        "X_test = dataset_test.iloc[:,1:].to_numpy()\n",
        "Y_test = dataset_test.iloc[:,0].to_numpy()\n",
        "X_test = X_test / 255.0\n",
        "X_test = X_test.reshape(-1,28,28,1)\n",
        "Y_test = Y_test.reshape(-1,1)\n",
        "print(f\"X_test shape: {X_test.shape}\")\n",
        "print(f\"Y_test shape: {Y_test.shape}\")"
      ],
      "metadata": {
        "colab": {
          "base_uri": "https://localhost:8080/"
        },
        "id": "1TXgjRZFFxcm",
        "outputId": "8218f4d7-e475-4644-b578-27e04bfa6433"
      },
      "execution_count": 19,
      "outputs": [
        {
          "output_type": "stream",
          "name": "stdout",
          "text": [
            "X_test shape: (9999, 28, 28, 1)\n",
            "Y_test shape: (9999, 1)\n"
          ]
        }
      ]
    },
    {
      "cell_type": "markdown",
      "source": [
        "Nice!"
      ],
      "metadata": {
        "id": "8gXd1UV1B_LN"
      }
    },
    {
      "cell_type": "code",
      "source": [
        "image = X_train[0].reshape(28,28) #No channels as its a grayscale image\n",
        "plt.imshow(image,cmap='gray')\n",
        "plt.axis('off')\n",
        "plt.show()\n",
        "print(Y_train[0])"
      ],
      "metadata": {
        "colab": {
          "base_uri": "https://localhost:8080/",
          "height": 423
        },
        "id": "ptVtiiOkCBF8",
        "outputId": "4865b3ef-a252-4d33-d05f-76f17c2a7a49"
      },
      "execution_count": 12,
      "outputs": [
        {
          "output_type": "display_data",
          "data": {
            "text/plain": [
              "<Figure size 640x480 with 1 Axes>"
            ],
            "image/png": "[encoded data removed]"
          },
          "metadata": {}
        },
        {
          "output_type": "stream",
          "name": "stdout",
          "text": [
            "[5]\n"
          ]
        }
      ]
    },
    {
      "cell_type": "markdown",
      "source": [
        "Theres our sample image with its corresponding labeled output\n"
      ],
      "metadata": {
        "id": "80LcBrrKCy71"
      }
    },
    {
      "cell_type": "markdown",
      "source": [
        "Now let's build a CNN using tensorflow"
      ],
      "metadata": {
        "id": "Xjvf7C91C3ZE"
      }
    },
    {
      "cell_type": "markdown",
      "source": [
        "We will be using 3 layers for our model as its a simple project and i dont want to waste my compute units for this.\n",
        "Some people might not count POOL layer as a \"layer\" but i'm gonna count cuz its simple for me that way."
      ],
      "metadata": {
        "id": "DW7bXXmHDh-f"
      }
    },
    {
      "cell_type": "markdown",
      "source": [
        "Our model would be\n",
        "Conv2D ---> Max POOL ----> FC ----> Softmax Output"
      ],
      "metadata": {
        "id": "tUVYAPN8DzYg"
      }
    },
    {
      "cell_type": "code",
      "source": [
        "model = models.Sequential()\n",
        "model.add(layers.Conv2D(filters=8, kernel_size=3, strides=(1,1), padding='same', activation='relu', input_shape=(28, 28, 1)))\n",
        "model.add(layers.MaxPooling2D((2, 2)))\n",
        "model.add(layers.Flatten())\n",
        "model.add(layers.Dense(10, activation='softmax'))\n",
        "\n",
        "model.summary()"
      ],
      "metadata": {
        "colab": {
          "base_uri": "https://localhost:8080/",
          "height": 311
        },
        "id": "DLS7rBuMCwLZ",
        "outputId": "d1b650e3-460d-4480-c938-f696773b67f7"
      },
      "execution_count": 23,
      "outputs": [
        {
          "output_type": "stream",
          "name": "stderr",
          "text": [
            "/usr/local/lib/python3.11/dist-packages/keras/src/layers/convolutional/base_conv.py:107: UserWarning: Do not pass an `input_shape`/`input_dim` argument to a layer. When using Sequential models, prefer using an `Input(shape)` object as the first layer in the model instead.\n",
            "  super().__init__(activity_regularizer=activity_regularizer, **kwargs)\n"
          ]
        },
        {
          "output_type": "display_data",
          "data": {
            "text/plain": [
              "\u001b[1mModel: \"sequential_2\"\u001b[0m\n"
            ],
            "text/html": [
              "<pre style=\"white-space:pre;overflow-x:auto;line-height:normal;font-family:Menlo,'DejaVu Sans Mono',consolas,'Courier New',monospace\"><span style=\"font-weight: bold\">Model: \"sequential_2\"</span>\n",
              "</pre>\n"
            ]
          },
          "metadata": {}
        },
        {
          "output_type": "display_data",
          "data": {
            "text/plain": [
              "┏━━━━━━━━━━━━━━━━━━━━━━━━━━━━━━━━━━━━━━┳━━━━━━━━━━━━━━━━━━━━━━━━━━━━━┳━━━━━━━━━━━━━━━━━┓\n",
              "┃\u001b[1m \u001b[0m\u001b[1mLayer (type)                        \u001b[0m\u001b[1m \u001b[0m┃\u001b[1m \u001b[0m\u001b[1mOutput Shape               \u001b[0m\u001b[1m \u001b[0m┃\u001b[1m \u001b[0m\u001b[1m        Param #\u001b[0m\u001b[1m \u001b[0m┃\n",
              "┡━━━━━━━━━━━━━━━━━━━━━━━━━━━━━━━━━━━━━━╇━━━━━━━━━━━━━━━━━━━━━━━━━━━━━╇━━━━━━━━━━━━━━━━━┩\n",
              "│ conv2d_2 (\u001b[38;5;33mConv2D\u001b[0m)                    │ (\u001b[38;5;45mNone\u001b[0m, \u001b[38;5;34m28\u001b[0m, \u001b[38;5;34m28\u001b[0m, \u001b[38;5;34m8\u001b[0m)           │              \u001b[38;5;34m80\u001b[0m │\n",
              "├──────────────────────────────────────┼─────────────────────────────┼─────────────────┤\n",
              "│ max_pooling2d_2 (\u001b[38;5;33mMaxPooling2D\u001b[0m)       │ (\u001b[38;5;45mNone\u001b[0m, \u001b[38;5;34m14\u001b[0m, \u001b[38;5;34m14\u001b[0m, \u001b[38;5;34m8\u001b[0m)           │               \u001b[38;5;34m0\u001b[0m │\n",
              "├──────────────────────────────────────┼─────────────────────────────┼─────────────────┤\n",
              "│ flatten_1 (\u001b[38;5;33mFlatten\u001b[0m)                  │ (\u001b[38;5;45mNone\u001b[0m, \u001b[38;5;34m1568\u001b[0m)                │               \u001b[38;5;34m0\u001b[0m │\n",
              "├──────────────────────────────────────┼─────────────────────────────┼─────────────────┤\n",
              "│ dense_2 (\u001b[38;5;33mDense\u001b[0m)                      │ (\u001b[38;5;45mNone\u001b[0m, \u001b[38;5;34m10\u001b[0m)                  │          \u001b[38;5;34m15,690\u001b[0m │\n",
              "└──────────────────────────────────────┴─────────────────────────────┴─────────────────┘\n"
            ],
            "text/html": [
              "<pre style=\"white-space:pre;overflow-x:auto;line-height:normal;font-family:Menlo,'DejaVu Sans Mono',consolas,'Courier New',monospace\">┏━━━━━━━━━━━━━━━━━━━━━━━━━━━━━━━━━━━━━━┳━━━━━━━━━━━━━━━━━━━━━━━━━━━━━┳━━━━━━━━━━━━━━━━━┓\n",
              "┃<span style=\"font-weight: bold\"> Layer (type)                         </span>┃<span style=\"font-weight: bold\"> Output Shape                </span>┃<span style=\"font-weight: bold\">         Param # </span>┃\n",
              "┡━━━━━━━━━━━━━━━━━━━━━━━━━━━━━━━━━━━━━━╇━━━━━━━━━━━━━━━━━━━━━━━━━━━━━╇━━━━━━━━━━━━━━━━━┩\n",
              "│ conv2d_2 (<span style=\"color: #0087ff; text-decoration-color: #0087ff\">Conv2D</span>)                    │ (<span style=\"color: #00d7ff; text-decoration-color: #00d7ff\">None</span>, <span style=\"color: #00af00; text-decoration-color: #00af00\">28</span>, <span style=\"color: #00af00; text-decoration-color: #00af00\">28</span>, <span style=\"color: #00af00; text-decoration-color: #00af00\">8</span>)           │              <span style=\"color: #00af00; text-decoration-color: #00af00\">80</span> │\n",
              "├──────────────────────────────────────┼─────────────────────────────┼─────────────────┤\n",
              "│ max_pooling2d_2 (<span style=\"color: #0087ff; text-decoration-color: #0087ff\">MaxPooling2D</span>)       │ (<span style=\"color: #00d7ff; text-decoration-color: #00d7ff\">None</span>, <span style=\"color: #00af00; text-decoration-color: #00af00\">14</span>, <span style=\"color: #00af00; text-decoration-color: #00af00\">14</span>, <span style=\"color: #00af00; text-decoration-color: #00af00\">8</span>)           │               <span style=\"color: #00af00; text-decoration-color: #00af00\">0</span> │\n",
              "├──────────────────────────────────────┼─────────────────────────────┼─────────────────┤\n",
              "│ flatten_1 (<span style=\"color: #0087ff; text-decoration-color: #0087ff\">Flatten</span>)                  │ (<span style=\"color: #00d7ff; text-decoration-color: #00d7ff\">None</span>, <span style=\"color: #00af00; text-decoration-color: #00af00\">1568</span>)                │               <span style=\"color: #00af00; text-decoration-color: #00af00\">0</span> │\n",
              "├──────────────────────────────────────┼─────────────────────────────┼─────────────────┤\n",
              "│ dense_2 (<span style=\"color: #0087ff; text-decoration-color: #0087ff\">Dense</span>)                      │ (<span style=\"color: #00d7ff; text-decoration-color: #00d7ff\">None</span>, <span style=\"color: #00af00; text-decoration-color: #00af00\">10</span>)                  │          <span style=\"color: #00af00; text-decoration-color: #00af00\">15,690</span> │\n",
              "└──────────────────────────────────────┴─────────────────────────────┴─────────────────┘\n",
              "</pre>\n"
            ]
          },
          "metadata": {}
        },
        {
          "output_type": "display_data",
          "data": {
            "text/plain": [
              "\u001b[1m Total params: \u001b[0m\u001b[38;5;34m15,770\u001b[0m (61.60 KB)\n"
            ],
            "text/html": [
              "<pre style=\"white-space:pre;overflow-x:auto;line-height:normal;font-family:Menlo,'DejaVu Sans Mono',consolas,'Courier New',monospace\"><span style=\"font-weight: bold\"> Total params: </span><span style=\"color: #00af00; text-decoration-color: #00af00\">15,770</span> (61.60 KB)\n",
              "</pre>\n"
            ]
          },
          "metadata": {}
        },
        {
          "output_type": "display_data",
          "data": {
            "text/plain": [
              "\u001b[1m Trainable params: \u001b[0m\u001b[38;5;34m15,770\u001b[0m (61.60 KB)\n"
            ],
            "text/html": [
              "<pre style=\"white-space:pre;overflow-x:auto;line-height:normal;font-family:Menlo,'DejaVu Sans Mono',consolas,'Courier New',monospace\"><span style=\"font-weight: bold\"> Trainable params: </span><span style=\"color: #00af00; text-decoration-color: #00af00\">15,770</span> (61.60 KB)\n",
              "</pre>\n"
            ]
          },
          "metadata": {}
        },
        {
          "output_type": "display_data",
          "data": {
            "text/plain": [
              "\u001b[1m Non-trainable params: \u001b[0m\u001b[38;5;34m0\u001b[0m (0.00 B)\n"
            ],
            "text/html": [
              "<pre style=\"white-space:pre;overflow-x:auto;line-height:normal;font-family:Menlo,'DejaVu Sans Mono',consolas,'Courier New',monospace\"><span style=\"font-weight: bold\"> Non-trainable params: </span><span style=\"color: #00af00; text-decoration-color: #00af00\">0</span> (0.00 B)\n",
              "</pre>\n"
            ]
          },
          "metadata": {}
        }
      ]
    },
    {
      "cell_type": "code",
      "source": [
        "model.compile(optimizer='adam',\n",
        "              loss=tf.keras.losses.SparseCategoricalCrossentropy(),\n",
        "              metrics=['accuracy'])\n",
        "\n",
        "history = model.fit(x=X_train, y=Y_train, epochs=10,\n",
        "                    validation_data=(X_test, Y_test))"
      ],
      "metadata": {
        "colab": {
          "base_uri": "https://localhost:8080/"
        },
        "id": "KSwKFYRFFHbG",
        "outputId": "7a1783bb-226a-4fbe-882d-9627bf92576b"
      },
      "execution_count": 29,
      "outputs": [
        {
          "output_type": "stream",
          "name": "stdout",
          "text": [
            "Epoch 1/10\n",
            "\u001b[1m625/625\u001b[0m \u001b[32m━━━━━━━━━━━━━━━━━━━━\u001b[0m\u001b[37m\u001b[0m \u001b[1m14s\u001b[0m 19ms/step - accuracy: 0.7489 - loss: 0.8820 - val_accuracy: 0.9243 - val_loss: 0.2605\n",
            "Epoch 2/10\n",
            "\u001b[1m625/625\u001b[0m \u001b[32m━━━━━━━━━━━━━━━━━━━━\u001b[0m\u001b[37m\u001b[0m \u001b[1m11s\u001b[0m 17ms/step - accuracy: 0.9236 - loss: 0.2570 - val_accuracy: 0.9401 - val_loss: 0.2063\n",
            "Epoch 3/10\n",
            "\u001b[1m625/625\u001b[0m \u001b[32m━━━━━━━━━━━━━━━━━━━━\u001b[0m\u001b[37m\u001b[0m \u001b[1m9s\u001b[0m 15ms/step - accuracy: 0.9460 - loss: 0.1883 - val_accuracy: 0.9523 - val_loss: 0.1612\n",
            "Epoch 4/10\n",
            "\u001b[1m625/625\u001b[0m \u001b[32m━━━━━━━━━━━━━━━━━━━━\u001b[0m\u001b[37m\u001b[0m \u001b[1m10s\u001b[0m 14ms/step - accuracy: 0.9551 - loss: 0.1549 - val_accuracy: 0.9560 - val_loss: 0.1482\n",
            "Epoch 5/10\n",
            "\u001b[1m625/625\u001b[0m \u001b[32m━━━━━━━━━━━━━━━━━━━━\u001b[0m\u001b[37m\u001b[0m \u001b[1m10s\u001b[0m 16ms/step - accuracy: 0.9611 - loss: 0.1278 - val_accuracy: 0.9574 - val_loss: 0.1363\n",
            "Epoch 6/10\n",
            "\u001b[1m625/625\u001b[0m \u001b[32m━━━━━━━━━━━━━━━━━━━━\u001b[0m\u001b[37m\u001b[0m \u001b[1m10s\u001b[0m 16ms/step - accuracy: 0.9702 - loss: 0.1109 - val_accuracy: 0.9633 - val_loss: 0.1231\n",
            "Epoch 7/10\n",
            "\u001b[1m625/625\u001b[0m \u001b[32m━━━━━━━━━━━━━━━━━━━━\u001b[0m\u001b[37m\u001b[0m \u001b[1m9s\u001b[0m 14ms/step - accuracy: 0.9717 - loss: 0.0996 - val_accuracy: 0.9639 - val_loss: 0.1185\n",
            "Epoch 8/10\n",
            "\u001b[1m625/625\u001b[0m \u001b[32m━━━━━━━━━━━━━━━━━━━━\u001b[0m\u001b[37m\u001b[0m \u001b[1m11s\u001b[0m 18ms/step - accuracy: 0.9760 - loss: 0.0847 - val_accuracy: 0.9651 - val_loss: 0.1179\n",
            "Epoch 9/10\n",
            "\u001b[1m625/625\u001b[0m \u001b[32m━━━━━━━━━━━━━━━━━━━━\u001b[0m\u001b[37m\u001b[0m \u001b[1m11s\u001b[0m 17ms/step - accuracy: 0.9781 - loss: 0.0766 - val_accuracy: 0.9677 - val_loss: 0.1052\n",
            "Epoch 10/10\n",
            "\u001b[1m625/625\u001b[0m \u001b[32m━━━━━━━━━━━━━━━━━━━━\u001b[0m\u001b[37m\u001b[0m \u001b[1m10s\u001b[0m 15ms/step - accuracy: 0.9807 - loss: 0.0676 - val_accuracy: 0.9678 - val_loss: 0.1062\n"
          ]
        }
      ]
    },
    {
      "cell_type": "code",
      "source": [
        "plt.plot(history.history['accuracy'], label='Train Accuracy')\n",
        "plt.plot(history.history['val_accuracy'], label = 'Test Accuracy')\n",
        "plt.xlabel('Epoch')\n",
        "plt.ylabel('Accuracy')\n",
        "plt.ylim([0.5, 1])\n",
        "plt.legend(loc='lower right')\n",
        "\n",
        "test_loss, test_acc = model.evaluate(X_test,  Y_test, verbose=2)"
      ],
      "metadata": {
        "colab": {
          "base_uri": "https://localhost:8080/",
          "height": 472
        },
        "id": "g1OLnqYmGVQq",
        "outputId": "d6eee7b7-e358-48f2-fc58-f86b68130e1d"
      },
      "execution_count": 30,
      "outputs": [
        {
          "output_type": "stream",
          "name": "stdout",
          "text": [
            "313/313 - 2s - 8ms/step - accuracy: 0.9678 - loss: 0.1062\n"
          ]
        },
        {
          "output_type": "display_data",
          "data": {
            "text/plain": [
              "<Figure size 640x480 with 1 Axes>"
            ],
            "image/png": "[encoded data removed]"
          },
          "metadata": {}
        }
      ]
    },
    {
      "cell_type": "markdown",
      "source": [
        "Our model is finally trained and we have an accuracy of 98% 🍾"
      ],
      "metadata": {
        "id": "yGz-XxzHII1e"
      }
    },
    {
      "cell_type": "markdown",
      "source": [
        "Now let's take a random image and try it on our model"
      ],
      "metadata": {
        "id": "qTRos2lgIN0p"
      }
    },
    {
      "cell_type": "code",
      "source": [
        "prediction_image = plt.imread(\"/content/8.jpg\")\n",
        "prediction_image"
      ],
      "metadata": {
        "colab": {
          "base_uri": "https://localhost:8080/",
          "height": 66
        },
        "id": "yjKcveGVINOe",
        "outputId": "13e45b32-e42b-4a5c-bed3-bbc4f6880f5b"
      },
      "execution_count": 46,
      "outputs": [
        {
          "output_type": "execute_result",
          "data": {
            "text/plain": [
              "array([[  0,   0,   0,   0,   0,   0,   0,   0,   0,   4,   4,   0,   0,\n",
              "          3,   5,   0,   0,   1,   0,   0,   4,   2,   0,   0,   0,   0,\n",
              "          0,   0],\n",
              "       [  0,   0,   0,   0,   0,   0,   0,   0,   0,   0,   6,   4,   0,\n",
              "          0,   0,   5,   4,   0,   0,   2,   0,   0,   6,   0,   0,   0,\n",
              "          0,   0],\n",
              "       [  0,   0,   0,   0,   0,   0,   0,   0,   6,   0,   0,   4,   4,\n",
              "          0,   0,   0,   3,   0,   0,   0,   0,   2,   3,   0,   0,   0,\n",
              "          0,   0],\n",
              "       [  0,   0,   0,   0,   0,   0,   0,   0,   0,   0,   0,   0,   0,\n",
              "          0,   2,   8,   0,   1,   0,   0,   3,   0,   0,   2,   0,   0,\n",
              "          0,   0],\n",
              "       [  0,   0,   0,   0,   0,   0,   0,   0,  10,   5,   0,   0,   6,\n",
              "          9,   0,   0,   7,  10,   0,   0,   9,   3,   0,  10,   0,   0,\n",
              "          0,   0],\n",
              "       [  0,   0,   0,   0,   0,   0,   0,   0,   0,   0,   0,   4,  32,\n",
              "         98, 190, 255, 246, 233, 255, 219,  57,   0,   7,   0,   0,   0,\n",
              "          0,   0],\n",
              "       [  0,   0,   0,   0,   0,   0,   0,   0,  13,   0,  27, 132, 234,\n",
              "        255, 255, 240, 249, 255, 243, 224, 252, 151,  11,   0,   0,   0,\n",
              "          0,   0],\n",
              "       [  0,   0,   0,   0,   0,   0,   0,   0,   0,  16, 112, 236, 255,\n",
              "        211, 135, 107,  11,   0,  86, 211, 255, 242, 143,  17,   0,   0,\n",
              "          0,   0],\n",
              "       [  0,   0,   0,   0,   0,   0,   0,   0,   0,  71, 231, 255, 182,\n",
              "         21,   6,   0,   6,   0,   8,   0, 156, 255, 246,  52,   0,   0,\n",
              "          0,   0],\n",
              "       [  0,   0,   0,   0,   0,   0,   0,   0,   0,  61, 255, 227,  52,\n",
              "          0,   0,   0,   0,   0,   0,  30,  73, 249, 255,  44,   0,   0,\n",
              "          0,   0],\n",
              "       [  0,   0,   0,   0,   0,   0,   0,   0,  10,  41, 253, 250,  47,\n",
              "         12,   0,  10,  62,  11,   1,  56, 226, 255, 251,  38,   0,   0,\n",
              "          0,   0],\n",
              "       [  0,   0,   0,   0,   0,   0,   0,   0,   0,   4, 145, 246,  48,\n",
              "          0,   3,   0, 191, 223, 201, 255, 242, 255, 151,  11,   0,   0,\n",
              "          0,   0],\n",
              "       [  0,   0,   0,   0,   0,   0,   0,   0,   6,   0,   3, 251, 255,\n",
              "        107,  54, 179, 251, 255, 255, 246, 206,  83,   0,   5,   0,   0,\n",
              "          0,   0],\n",
              "       [  0,   0,   0,   0,   0,   0,   0,   0,   8,   0,  32, 209, 230,\n",
              "        255, 255, 252, 254, 242, 248, 157,  16,  11,  10,   0,   0,   0,\n",
              "          0,   0],\n",
              "       [  0,   0,   0,   0,   0,   0,   0,   0,   0,  84, 191, 255, 248,\n",
              "        255, 249, 188, 108,  69,  10,   0,   0,   9,   0,   2,   0,   0,\n",
              "          0,   0],\n",
              "       [  0,   0,   0,   0,   0,   0,   0,   0, 150, 253, 252, 246, 255,\n",
              "        252, 240, 169,   0,  19,   0,   0,  18,   0,   0,   3,   0,   0,\n",
              "          0,   0],\n",
              "       [  6,   0,   0,   4,   0,   0,  26, 150, 255, 247, 153,  95,   0,\n",
              "        135, 250, 241,  24,  12,   0,   1,  16,   0,  10,   8,   0,   0,\n",
              "          0,   0],\n",
              "       [  0,  18,   0,   0,  18,   6, 211, 254, 224, 129,   0,   0,   9,\n",
              "         18, 224, 245, 182,   0,   5,   8,   0,   4,   0,   0,   0,   0,\n",
              "          0,   0],\n",
              "       [  0,   4,   0,   0,   0, 132, 255, 251,  77,   7,  17,   3,   0,\n",
              "          0, 104, 253, 255,   4,   1,   4,   0,  18,   4,   1,   0,   0,\n",
              "          0,   0],\n",
              "       [  9,   0,  11,   0,  33, 203, 254,  95,   5,   0,   0,   0,   0,\n",
              "          8, 106, 248, 251,  82,   8,   0,   2,   0,   0,   0,   0,   0,\n",
              "          0,   0],\n",
              "       [  7,   0,  13,   0,  36, 252, 245,  58,   0,   0,  19,   0,   9,\n",
              "          0,  96, 255, 249, 121,   8,   0,  12,   0,   2,   1,   0,   0,\n",
              "          0,   0],\n",
              "       [  1,   0,   1,   4,   0, 217, 244, 175,   6,  22,   0,   0,   0,\n",
              "          9, 134, 251, 255,  78,   3,   0,   5,   7,   8,   5,   0,   0,\n",
              "          0,   0],\n",
              "       [  0,  17,   0,   0,  10,  52, 250, 241, 172,  81,  15,   1,  36,\n",
              "        195, 209, 255, 227,  32,   6,   4,   0,   0,   0,   0,   0,   0,\n",
              "          0,   0],\n",
              "       [  2,   0,   6,   1,   0,   9, 154, 255, 248, 255, 250, 255, 254,\n",
              "        228, 255, 236, 105,   0,   0,   7,   3,   0,   2,   9,   0,   0,\n",
              "          0,   0],\n",
              "       [  2,   3,   0,   1,   6,   0,  24, 108, 208, 232, 255, 255, 245,\n",
              "        192, 110,  43,   0,   0,   0,   0,   0,   0,   0,   0,   0,   0,\n",
              "          0,   0],\n",
              "       [  0,   3,   0,   1,  14,   0,   0,  20,   3,   6,   3,   0,   0,\n",
              "          7,   2,   0,   0,   0,   0,   0,   0,   0,   0,   0,   0,   0,\n",
              "          0,   0],\n",
              "       [  0,   8,   0,   0,   6,   5,   0,   0,   0,   0,   0,   0,   0,\n",
              "          0,   0,   0,   0,   0,   0,   0,   0,   0,   0,   0,   0,   0,\n",
              "          0,   0],\n",
              "       [  0,   9,   1,   0,   0,   4,   4,  10,   0,   8,  11,   6,   2,\n",
              "          3,   3,   0,   0,   0,   0,   0,   0,   0,   0,   0,   0,   0,\n",
              "          0,   0]], dtype=uint8)"
            ],
            "text/html": [
              "<style>\n",
              "      .ndarray_repr .ndarray_raw_data {\n",
              "        display: none;\n",
              "      }\n",
              "      .ndarray_repr.show_array .ndarray_raw_data {\n",
              "        display: block;\n",
              "      }\n",
              "      .ndarray_repr.show_array .ndarray_image_preview {\n",
              "        display: none;\n",
              "      }\n",
              "      </style>\n",
              "      <div id=\"id-ef5785b9-9e00-4789-bead-15d23b3f827d\" class=\"ndarray_repr\"><pre>ndarray (28, 28) <button style=\"padding: 0 2px;\">show data</button></pre><img src=\"data:image/png;base64,iVBORw0KGgoAAAANSUhEUgAAABwAAAAcCAAAAABXZoBIAAABw0lEQVR4nG2SO2tUURSFv/O4576izkx8hAgygmihhUIQLLQTsbDwgW3ASk0QG3+AEEgpNpGI/gDBTkglRrASQQyDVRQHIr4YIRnNnZl7J3dbzDh4r1nl/lhnr7PY8FfWgvFAgdWU5SzgWdDgSmjgxQBo858V0AEKDBQfjjxwIfgRhIaobLP1ay8k+S6rp/CLZAf7536IrPfkV7P/IC75Krdb0pifibnakPa9ahGe+ypLexyOgEeSTBXhaVkbTg6c78kx+Cdy1Mr3ZWNEZ2I1uej6aSnr/eQ4huVPr6UtpUQOk8nMyWeZSPL2Ml4BBtRXvoj083b3cSUud3BlWbrSez57NoKwVN/CVj+R/voTxqE27B8HFiYXpLM4zXy6MTGGqhAFA0sNaq6RN+9CWGtuLuEF2NEXgDnJLvhVA9e3xCpLzSoAQmIOvsmnPYDgZje7FIzS6ByNOdFZzRgn7CZ+fgQitALQKb/th49yx+39SSc83HfvM3q+G26tQjSVbjy9uEsderUia3U3ioPGKcKH0pVU8s/SugG+QYcDaFCOidl330Q2X946WqzNoHbCbuMM+OVrDsB5bCuNUqRiI4LYaVM85j8hWpNjwpd8AAAAAABJRU5ErkJggg==\" class=\"ndarray_image_preview\" /><pre class=\"ndarray_raw_data\">array([[  0,   0,   0,   0,   0,   0,   0,   0,   0,   4,   4,   0,   0,\n",
              "          3,   5,   0,   0,   1,   0,   0,   4,   2,   0,   0,   0,   0,\n",
              "          0,   0],\n",
              "       [  0,   0,   0,   0,   0,   0,   0,   0,   0,   0,   6,   4,   0,\n",
              "          0,   0,   5,   4,   0,   0,   2,   0,   0,   6,   0,   0,   0,\n",
              "          0,   0],\n",
              "       [  0,   0,   0,   0,   0,   0,   0,   0,   6,   0,   0,   4,   4,\n",
              "          0,   0,   0,   3,   0,   0,   0,   0,   2,   3,   0,   0,   0,\n",
              "          0,   0],\n",
              "       [  0,   0,   0,   0,   0,   0,   0,   0,   0,   0,   0,   0,   0,\n",
              "          0,   2,   8,   0,   1,   0,   0,   3,   0,   0,   2,   0,   0,\n",
              "          0,   0],\n",
              "       [  0,   0,   0,   0,   0,   0,   0,   0,  10,   5,   0,   0,   6,\n",
              "          9,   0,   0,   7,  10,   0,   0,   9,   3,   0,  10,   0,   0,\n",
              "          0,   0],\n",
              "       [  0,   0,   0,   0,   0,   0,   0,   0,   0,   0,   0,   4,  32,\n",
              "         98, 190, 255, 246, 233, 255, 219,  57,   0,   7,   0,   0,   0,\n",
              "          0,   0],\n",
              "       [  0,   0,   0,   0,   0,   0,   0,   0,  13,   0,  27, 132, 234,\n",
              "        255, 255, 240, 249, 255, 243, 224, 252, 151,  11,   0,   0,   0,\n",
              "          0,   0],\n",
              "       [  0,   0,   0,   0,   0,   0,   0,   0,   0,  16, 112, 236, 255,\n",
              "        211, 135, 107,  11,   0,  86, 211, 255, 242, 143,  17,   0,   0,\n",
              "          0,   0],\n",
              "       [  0,   0,   0,   0,   0,   0,   0,   0,   0,  71, 231, 255, 182,\n",
              "         21,   6,   0,   6,   0,   8,   0, 156, 255, 246,  52,   0,   0,\n",
              "          0,   0],\n",
              "       [  0,   0,   0,   0,   0,   0,   0,   0,   0,  61, 255, 227,  52,\n",
              "          0,   0,   0,   0,   0,   0,  30,  73, 249, 255,  44,   0,   0,\n",
              "          0,   0],\n",
              "       [  0,   0,   0,   0,   0,   0,   0,   0,  10,  41, 253, 250,  47,\n",
              "         12,   0,  10,  62,  11,   1,  56, 226, 255, 251,  38,   0,   0,\n",
              "          0,   0],\n",
              "       [  0,   0,   0,   0,   0,   0,   0,   0,   0,   4, 145, 246,  48,\n",
              "          0,   3,   0, 191, 223, 201, 255, 242, 255, 151,  11,   0,   0,\n",
              "          0,   0],\n",
              "       [  0,   0,   0,   0,   0,   0,   0,   0,   6,   0,   3, 251, 255,\n",
              "        107,  54, 179, 251, 255, 255, 246, 206,  83,   0,   5,   0,   0,\n",
              "          0,   0],\n",
              "       [  0,   0,   0,   0,   0,   0,   0,   0,   8,   0,  32, 209, 230,\n",
              "        255, 255, 252, 254, 242, 248, 157,  16,  11,  10,   0,   0,   0,\n",
              "          0,   0],\n",
              "       [  0,   0,   0,   0,   0,   0,   0,   0,   0,  84, 191, 255, 248,\n",
              "        255, 249, 188, 108,  69,  10,   0,   0,   9,   0,   2,   0,   0,\n",
              "          0,   0],\n",
              "       [  0,   0,   0,   0,   0,   0,   0,   0, 150, 253, 252, 246, 255,\n",
              "        252, 240, 169,   0,  19,   0,   0,  18,   0,   0,   3,   0,   0,\n",
              "          0,   0],\n",
              "       [  6,   0,   0,   4,   0,   0,  26, 150, 255, 247, 153,  95,   0,\n",
              "        135, 250, 241,  24,  12,   0,   1,  16,   0,  10,   8,   0,   0,\n",
              "          0,   0],\n",
              "       [  0,  18,   0,   0,  18,   6, 211, 254, 224, 129,   0,   0,   9,\n",
              "         18, 224, 245, 182,   0,   5,   8,   0,   4,   0,   0,   0,   0,\n",
              "          0,   0],\n",
              "       [  0,   4,   0,   0,   0, 132, 255, 251,  77,   7,  17,   3,   0,\n",
              "          0, 104, 253, 255,   4,   1,   4,   0,  18,   4,   1,   0,   0,\n",
              "          0,   0],\n",
              "       [  9,   0,  11,   0,  33, 203, 254,  95,   5,   0,   0,   0,   0,\n",
              "          8, 106, 248, 251,  82,   8,   0,   2,   0,   0,   0,   0,   0,\n",
              "          0,   0],\n",
              "       [  7,   0,  13,   0,  36, 252, 245,  58,   0,   0,  19,   0,   9,\n",
              "          0,  96, 255, 249, 121,   8,   0,  12,   0,   2,   1,   0,   0,\n",
              "          0,   0],\n",
              "       [  1,   0,   1,   4,   0, 217, 244, 175,   6,  22,   0,   0,   0,\n",
              "          9, 134, 251, 255,  78,   3,   0,   5,   7,   8,   5,   0,   0,\n",
              "          0,   0],\n",
              "       [  0,  17,   0,   0,  10,  52, 250, 241, 172,  81,  15,   1,  36,\n",
              "        195, 209, 255, 227,  32,   6,   4,   0,   0,   0,   0,   0,   0,\n",
              "          0,   0],\n",
              "       [  2,   0,   6,   1,   0,   9, 154, 255, 248, 255, 250, 255, 254,\n",
              "        228, 255, 236, 105,   0,   0,   7,   3,   0,   2,   9,   0,   0,\n",
              "          0,   0],\n",
              "       [  2,   3,   0,   1,   6,   0,  24, 108, 208, 232, 255, 255, 245,\n",
              "        192, 110,  43,   0,   0,   0,   0,   0,   0,   0,   0,   0,   0,\n",
              "          0,   0],\n",
              "       [  0,   3,   0,   1,  14,   0,   0,  20,   3,   6,   3,   0,   0,\n",
              "          7,   2,   0,   0,   0,   0,   0,   0,   0,   0,   0,   0,   0,\n",
              "          0,   0],\n",
              "       [  0,   8,   0,   0,   6,   5,   0,   0,   0,   0,   0,   0,   0,\n",
              "          0,   0,   0,   0,   0,   0,   0,   0,   0,   0,   0,   0,   0,\n",
              "          0,   0],\n",
              "       [  0,   9,   1,   0,   0,   4,   4,  10,   0,   8,  11,   6,   2,\n",
              "          3,   3,   0,   0,   0,   0,   0,   0,   0,   0,   0,   0,   0,\n",
              "          0,   0]], dtype=uint8)</pre></div><script>\n",
              "      (() => {\n",
              "      const titles = ['show data', 'hide data'];\n",
              "      let index = 0\n",
              "      document.querySelector('#id-ef5785b9-9e00-4789-bead-15d23b3f827d button').onclick = (e) => {\n",
              "        document.querySelector('#id-ef5785b9-9e00-4789-bead-15d23b3f827d').classList.toggle('show_array');\n",
              "        index = (++index) % 2;\n",
              "        document.querySelector('#id-ef5785b9-9e00-4789-bead-15d23b3f827d button').textContent = titles[index];\n",
              "        e.preventDefault();\n",
              "        e.stopPropagation();\n",
              "      }\n",
              "      })();\n",
              "    </script>"
            ]
          },
          "metadata": {},
          "execution_count": 46
        }
      ]
    },
    {
      "cell_type": "markdown",
      "source": [
        "Now lets resize it into 28x28x1 and also normalise it"
      ],
      "metadata": {
        "id": "FtRr6tpLJ8q4"
      }
    },
    {
      "cell_type": "code",
      "source": [
        "prediction_image = prediction_image / 255.0\n",
        "prediction_image = prediction_image.reshape(1,28,28,1)"
      ],
      "metadata": {
        "id": "PCfD1NqYIlap"
      },
      "execution_count": 47,
      "outputs": []
    },
    {
      "cell_type": "code",
      "source": [
        "prediction = model.predict(prediction_image)"
      ],
      "metadata": {
        "colab": {
          "base_uri": "https://localhost:8080/"
        },
        "id": "_6_gUnUWKFyV",
        "outputId": "764df60e-d787-410b-c6e9-dba15374dd63"
      },
      "execution_count": 48,
      "outputs": [
        {
          "output_type": "stream",
          "name": "stdout",
          "text": [
            "\u001b[1m1/1\u001b[0m \u001b[32m━━━━━━━━━━━━━━━━━━━━\u001b[0m\u001b[37m\u001b[0m \u001b[1m0s\u001b[0m 39ms/step\n"
          ]
        }
      ]
    },
    {
      "cell_type": "code",
      "source": [
        "print(np.argmax(prediction))"
      ],
      "metadata": {
        "colab": {
          "base_uri": "https://localhost:8080/"
        },
        "id": "fQzTbWhiKsmL",
        "outputId": "e85d877e-facf-43e5-ca84-34c3755f769d"
      },
      "execution_count": 50,
      "outputs": [
        {
          "output_type": "stream",
          "name": "stdout",
          "text": [
            "8\n"
          ]
        }
      ]
    },
    {
      "cell_type": "markdown",
      "source": [
        "Yayyyy!"
      ],
      "metadata": {
        "id": "8E25pqP5Lg0D"
      }
    }
  ]
}